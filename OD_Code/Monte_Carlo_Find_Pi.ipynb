{
 "cells": [
  {
   "cell_type": "code",
   "execution_count": 1,
   "id": "77534d10",
   "metadata": {},
   "outputs": [
    {
     "name": "stdout",
     "output_type": "stream",
     "text": [
      "3.143737919999982\n"
     ]
    }
   ],
   "source": [
    "import random as rp\n",
    "import time\n",
    "import numpy as np\n",
    "\n",
    "def MC_Find_Pi(n):\n",
    "    rp.seed(np.trunc(time.time()))\n",
    "    totalCount = circleCount = 0\n",
    "    \n",
    "    for i in range(0, n):\n",
    "        x = rp.random() * 2 - 1\n",
    "        y = rp.random() * 2 - 1\n",
    "        \n",
    "        r = np.sqrt(x ** 2 + y ** 2)\n",
    "        if r <= 1:\n",
    "            circleCount += 1\n",
    "        \n",
    "        totalCount += 1\n",
    "        \n",
    "    return circleCount / totalCount * 4\n",
    "\n",
    "n = 10000\n",
    "pi = sum([MC_Find_Pi(n) for x in range(0, n)]) / n\n",
    "    \n",
    "print(pi)\n"
   ]
  },
  {
   "cell_type": "code",
   "execution_count": null,
   "id": "05ef04ef",
   "metadata": {},
   "outputs": [],
   "source": []
  },
  {
   "cell_type": "code",
   "execution_count": null,
   "id": "241bde36",
   "metadata": {},
   "outputs": [],
   "source": []
  },
  {
   "cell_type": "code",
   "execution_count": null,
   "id": "fe7754a3",
   "metadata": {},
   "outputs": [],
   "source": []
  },
  {
   "cell_type": "code",
   "execution_count": null,
   "id": "00fec320",
   "metadata": {},
   "outputs": [],
   "source": []
  }
 ],
 "metadata": {
  "kernelspec": {
   "display_name": "Python 3",
   "language": "python",
   "name": "python3"
  },
  "language_info": {
   "codemirror_mode": {
    "name": "ipython",
    "version": 3
   },
   "file_extension": ".py",
   "mimetype": "text/x-python",
   "name": "python",
   "nbconvert_exporter": "python",
   "pygments_lexer": "ipython3",
   "version": "3.6.15"
  }
 },
 "nbformat": 4,
 "nbformat_minor": 5
}
