{
 "cells": [
  {
   "cell_type": "code",
   "execution_count": 1,
   "id": "f9312f7c",
   "metadata": {},
   "outputs": [
    {
     "name": "stdout",
     "output_type": "stream",
     "text": [
      "[-0.10304313829376772, 0.1891766489576113, 0.29221978725137904]\n",
      "0.6484389952109034 0.052337432816341345 0.033059015178438955 -0.003058126194958044 0.35349345752312983 -0.0006461970539776637\n",
      "0.48305746359204765\n"
     ]
    }
   ],
   "source": [
    "from astropy.io import fits\n",
    "import numpy as np\n",
    "\n",
    "def Get_RA_Dec_RMS():\n",
    "    table = fits.open('corr.fits')[1].data\n",
    "    n = int(table.shape[0])\n",
    "    rmsRA = np.sqrt(sum([(table.index_ra[x] - table.field_ra[x]) ** 2 for x in range(n)]) / (n - 1))\n",
    "    rmsDec = np.sqrt(sum([(table.index_dec[x] - table.field_dec[x]) ** 2 for x in range(n)]) / (n - 1))\n",
    "    return rmsRA, rmsDec\n",
    "    \n",
    "rmsRA, rmsDec = Get_RA_Dec_RMS()\n",
    "print('RA:', rmsRA, 'Dec:', rmsDec)"
   ]
  },
  {
   "cell_type": "code",
   "execution_count": null,
   "id": "e7f88222",
   "metadata": {},
   "outputs": [],
   "source": []
  },
  {
   "cell_type": "code",
   "execution_count": null,
   "id": "a45dae6a",
   "metadata": {},
   "outputs": [],
   "source": []
  }
 ],
 "metadata": {
  "kernelspec": {
   "display_name": "Python 3",
   "language": "python",
   "name": "python3"
  },
  "language_info": {
   "codemirror_mode": {
    "name": "ipython",
    "version": 3
   },
   "file_extension": ".py",
   "mimetype": "text/x-python",
   "name": "python",
   "nbconvert_exporter": "python",
   "pygments_lexer": "ipython3",
   "version": "3.6.15"
  }
 },
 "nbformat": 4,
 "nbformat_minor": 5
}
