{
 "cells": [
  {
   "cell_type": "code",
   "execution_count": 3,
   "id": "c2275fa3",
   "metadata": {},
   "outputs": [
    {
     "name": "stdout",
     "output_type": "stream",
     "text": [
      "m: -2.521687423191772 b: 27.536949680586883\n"
     ]
    },
    {
     "data": {
      "image/png": "[encoded data removed]",
      "text/plain": [
       "<Figure size 432x288 with 1 Axes>"
      ]
     },
     "metadata": {
      "needs_background": "light"
     },
     "output_type": "display_data"
    }
   ],
   "source": [
    "import numpy as np  \n",
    "import matplotlib.pyplot as plt\n",
    "\n",
    "def Det2X2(m):\n",
    "    return (m[0][0] * m[1][1]) - (m[0][1] * m[1][0])\n",
    "\n",
    "def LeastSqauresFitting():\n",
    "    np.random.seed(19684801)\n",
    "    #N = 10\n",
    "    \n",
    "    # Line that we want the random x, y values to deviate from\n",
    "    #testX = np.arange(0, N, 1)\n",
    "    #testY = testX * 2 + 3\n",
    "    \n",
    "    #x = testX + np.trunc(np.random.rand(N) * 5 - 2)\n",
    "    #y = testY + np.trunc(np.random.rand(N) * 5 - 2)\n",
    "    \n",
    "    x = np.array([5.816317455, 4.453814024, 4.984673176])\n",
    "    y = np.array([12.858, 16.287, 14.998])\n",
    "    N = len(x)\n",
    "    \n",
    "    sumX2 = sumX = sumXY = sumY = 0\n",
    "    for i in range(0, N):\n",
    "        sumX2 += x[i] ** 2\n",
    "        sumX += x[i]\n",
    "        sumXY += x[i] * y[i]\n",
    "        sumY += y[i]\n",
    "        \n",
    "    m = Det2X2(np.array([[sumXY, sumX], [sumY, N]])) / Det2X2(np.array([[sumX2, sumX], [sumX, N]]))\n",
    "    b = Det2X2(np.array([[sumX2, sumXY], [sumX, sumY]])) / Det2X2(np.array([[sumX2, sumX], [sumX, N]]))\n",
    "    \n",
    "    lineX = np.arange(0, max(x), 1)\n",
    "    lineY = lineX * m + b\n",
    "    \n",
    "    plt.plot(x, y, 'ro')\n",
    "    plt.plot(lineX, lineY, 'b-')\n",
    "    \n",
    "    return m, b\n",
    "\n",
    "m, b = LeastSqauresFitting()\n",
    "print('m:', m, 'b:', b)"
   ]
  },
  {
   "cell_type": "code",
   "execution_count": null,
   "id": "c85e6a9c",
   "metadata": {},
   "outputs": [],
   "source": [
    "    "
   ]
  },
  {
   "cell_type": "code",
   "execution_count": null,
   "id": "9f2b64bb",
   "metadata": {},
   "outputs": [],
   "source": []
  }
 ],
 "metadata": {
  "kernelspec": {
   "display_name": "Python 3",
   "language": "python",
   "name": "python3"
  },
  "language_info": {
   "codemirror_mode": {
    "name": "ipython",
    "version": 3
   },
   "file_extension": ".py",
   "mimetype": "text/x-python",
   "name": "python",
   "nbconvert_exporter": "python",
   "pygments_lexer": "ipython3",
   "version": "3.6.15"
  }
 },
 "nbformat": 4,
 "nbformat_minor": 5
}
