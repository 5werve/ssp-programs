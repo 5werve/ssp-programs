{
 "cells": [
  {
   "cell_type": "code",
   "execution_count": 6,
   "id": "135e4dc0",
   "metadata": {},
   "outputs": [
    {
     "name": "stdout",
     "output_type": "stream",
     "text": [
      "Enter the hour value: 10\n",
      "Enter the minute value: 10\n",
      "Enter the second value: 10\n",
      "The degree value is: 152.54166666666666\n",
      "Convert to radians? (y/n) y\n",
      "Radians is: 5.324708659626033\n"
     ]
    }
   ],
   "source": [
    "from math import *\n",
    "\n",
    "def HMStoDegOrRad(h, m, s, option):\n",
    "    deg = (h * 15) + (m * (1/60) * 15) + (s * (1/3600) * 15)\n",
    "    if (option == True):\n",
    "        return deg\n",
    "    else:\n",
    "        return deg * (math.pi/180)"
   ]
  },
  {
   "cell_type": "code",
   "execution_count": null,
   "id": "de54e4cd",
   "metadata": {},
   "outputs": [],
   "source": [
    "def DotVectors(v1, v2):\n",
    "    return v1[0]*v2[0]+v1[1]*v2[1]+v1[2]*v2[2]\n",
    "def CrossVectors(v1, v2):\n",
    "    return [v1[1]*v2[2] - v1[2]*v2[1], -(v1[0]*v2[2] - v2[0]*v1[2]), v1[0]*v2[1] - v2[0]*v1[1]]\n",
    "def TripleProduct(v1, v2, v3):\n",
    "    return DotVectors(CrossVectors(v2, v3), v1)"
   ]
  }
 ],
 "metadata": {
  "kernelspec": {
   "display_name": "Python 3",
   "language": "python",
   "name": "python3"
  },
  "language_info": {
   "codemirror_mode": {
    "name": "ipython",
    "version": 3
   },
   "file_extension": ".py",
   "mimetype": "text/x-python",
   "name": "python",
   "nbconvert_exporter": "python",
   "pygments_lexer": "ipython3",
   "version": "3.6.15"
  }
 },
 "nbformat": 4,
 "nbformat_minor": 5
}
