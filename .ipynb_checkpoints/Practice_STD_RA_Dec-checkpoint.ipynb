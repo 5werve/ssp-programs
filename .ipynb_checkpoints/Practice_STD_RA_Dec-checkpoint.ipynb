{
 "cells": [
  {
   "cell_type": "code",
   "execution_count": 12,
   "id": "cadc0e71",
   "metadata": {},
   "outputs": [
    {
     "name": "stdout",
     "output_type": "stream",
     "text": [
      "RA: 5.655508126010309e-05 Dec: 3.710012219684419e-05\n"
     ]
    }
   ],
   "source": [
    "from astropy.io import fits\n",
    "import numpy as np\n",
    "\n",
    "def Get_RA_Dec_RMS():\n",
    "    table = fits.open('corr.fits')[1].data\n",
    "    n = int(table.shape[0])\n",
    "    rmsRA = np.sqrt(sum([(table.index_ra[x] - table.field_ra[x]) ** 2 for x in range(n)]) / (n - 1))\n",
    "    rmsDec = np.sqrt(sum([(table.index_dec[x] - table.field_dec[x]) ** 2 for x in range(n)]) / (n - 1))\n",
    "    return rmsRA, rmsDec\n",
    "    \n",
    "rmsRA, rmsDec = Get_RA_Dec_RMS()\n",
    "print('RA:', rmsRA, 'Dec:', rmsDec)"
   ]
  },
  {
   "cell_type": "code",
   "execution_count": null,
   "id": "771a6790",
   "metadata": {},
   "outputs": [],
   "source": []
  },
  {
   "cell_type": "code",
   "execution_count": null,
   "id": "af3ccd35",
   "metadata": {},
   "outputs": [],
   "source": []
  }
 ],
 "metadata": {
  "kernelspec": {
   "display_name": "Python 3",
   "language": "python",
   "name": "python3"
  },
  "language_info": {
   "codemirror_mode": {
    "name": "ipython",
    "version": 3
   },
   "file_extension": ".py",
   "mimetype": "text/x-python",
   "name": "python",
   "nbconvert_exporter": "python",
   "pygments_lexer": "ipython3",
   "version": "3.6.15"
  }
 },
 "nbformat": 4,
 "nbformat_minor": 5
}
