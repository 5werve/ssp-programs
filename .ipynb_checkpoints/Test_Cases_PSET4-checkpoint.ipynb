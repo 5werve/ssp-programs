{
 "cells": [
  {
   "cell_type": "markdown",
   "metadata": {},
   "source": [
    "# Test Cases for Programming Problems in PSET 3\n",
    "### By: Peter Lande\n",
    "\n",
    "Please use this code to perform unit tests to your programs. Your code must run without any failures to be considered complete. Please copy your code into the first cell and put your functions' names in the locations in the cells as indictated. Then run the third cell and show it to a TA. If it has no issues, the TA will mark off that you have finished the problem and no further work will be required. If you need help, talk to Peter and he can help."
   ]
  },
  {
   "cell_type": "code",
   "execution_count": 7,
   "metadata": {},
   "outputs": [],
   "source": [
    "import numpy as np  \n",
    "import matplotlib.pyplot as plt\n",
    "\n",
    "def Det2X2(m):\n",
    "    return (m[0][0] * m[1][1]) - (m[0][1] * m[1][0])\n",
    "\n",
    "def LeastSquaresFitting(x, y):\n",
    "    N = len(x)\n",
    "    sumX2 = sumX = sumXY = sumY = 0\n",
    "    for i in range(0, N):\n",
    "        sumX2 += x[i] ** 2\n",
    "        sumX += x[i]\n",
    "        sumXY += x[i] * y[i]\n",
    "        sumY += y[i]\n",
    "        \n",
    "    m = Det2X2(np.array([[sumXY, sumX], [sumY, N]])) / Det2X2(np.array([[sumX2, sumX], [sumX, N]]))\n",
    "    b = Det2X2(np.array([[sumX2, sumXY], [sumX, sumY]])) / Det2X2(np.array([[sumX2, sumX], [sumX, N]]))\n",
    "    \n",
    "    lineX = np.arange(0, N, 1)\n",
    "    lineY = lineX * m + b\n",
    "    \n",
    "    plt.plot(x, y, 'ro')\n",
    "    plt.plot(lineX, lineY, 'b-')\n",
    "    \n",
    "    return m, b"
   ]
  },
  {
   "cell_type": "code",
   "execution_count": 8,
   "metadata": {},
   "outputs": [],
   "source": [
    "least_squares_fitting = LeastSquaresFitting#REPLACE THIS COMMENT WITH THE NAME OF YOUR FUNCTION, PLEASE FORMAT YOUR PARAMETERS AS (x, y) and return (m, b)"
   ]
  },
  {
   "cell_type": "code",
   "execution_count": 9,
   "metadata": {},
   "outputs": [
    {
     "name": "stderr",
     "output_type": "stream",
     "text": [
      ".\n",
      "----------------------------------------------------------------------\n",
      "Ran 1 test in 0.033s\n",
      "\n",
      "OK\n"
     ]
    },
    {
     "data": {
      "text/plain": [
       "<unittest.main.TestProgram at 0x7f4cce22bf28>"
      ]
     },
     "execution_count": 9,
     "metadata": {},
     "output_type": "execute_result"
    },
    {
     "data": {
      "image/png": "[encoded data removed]",
      "text/plain": [
       "<Figure size 432x288 with 1 Axes>"
      ]
     },
     "metadata": {
      "needs_background": "light"
     },
     "output_type": "display_data"
    }
   ],
   "source": [
    "#RUN THIS AFTER RUNNING ALL OTHER CELLS; DO NOT CHANGE!!!!\n",
    "import unittest, random\n",
    "import numpy as np\n",
    "\n",
    "x = np.array([0, 1, 2, 3, 4, 5, 6, 7, 8, 9, 10])\n",
    "\n",
    "class TestPset3(unittest.TestCase):\n",
    "    def test_least_sqaures_fitting(self):\n",
    "        y = np.array([i + random.randint(-3, 3) for i in list(map(lambda l: l, x))])\n",
    "        np.testing.assert_allclose(least_squares_fitting(x, y), tuple(np.linalg.lstsq(np.vstack([x, np.ones(len(x))]).T, y, rcond=None)[0]), rtol=1e-3)\n",
    "        y = np.array([i + random.randint(-3, 3) for i in list(map(lambda l: l + 1, x))])\n",
    "        np.testing.assert_allclose(least_squares_fitting(x, y), tuple(np.linalg.lstsq(np.vstack([x, np.ones(len(x))]).T, y, rcond=None)[0]), rtol=1e-3)\n",
    "        y = np.array([i + random.randint(-3, 3) for i in list(map(lambda l: -l, x))])\n",
    "        np.testing.assert_allclose(least_squares_fitting(x, y), tuple(np.linalg.lstsq(np.vstack([x, np.ones(len(x))]).T, y, rcond=None)[0]), rtol=1e-3)\n",
    "        y = np.array([i + random.randint(-3, 3) for i in list(map(lambda l: -5*l-6, x))])\n",
    "        np.testing.assert_allclose(least_squares_fitting(x, y), tuple(np.linalg.lstsq(np.vstack([x, np.ones(len(x))]).T, y, rcond=None)[0]), rtol=1e-3)\n",
    "        y = np.array([i + random.randint(-3, 3) for i in list(map(lambda l: 6*l+5, x))])\n",
    "        np.testing.assert_allclose(least_squares_fitting(x, y), tuple(np.linalg.lstsq(np.vstack([x, np.ones(len(x))]).T, y, rcond=None)[0]), rtol=1e-3)\n",
    "        y = np.array([i + random.randint(-3, 3) for i in list(map(lambda l: -4*l+7, x))])\n",
    "        np.testing.assert_allclose(least_squares_fitting(x, y), tuple(np.linalg.lstsq(np.vstack([x, np.ones(len(x))]).T, y, rcond=None)[0]), rtol=1e-3)\n",
    "        y = np.array([i + random.randint(-3, 3) for i in list(map(lambda l: 3*l-5, x))])\n",
    "        np.testing.assert_allclose(least_squares_fitting(x, y), tuple(np.linalg.lstsq(np.vstack([x, np.ones(len(x))]).T, y, rcond=None)[0]), rtol=1e-3)\n",
    "\n",
    "unittest.main(argv=['first-arg-is-ignored'], exit=False)"
   ]
  },
  {
   "cell_type": "code",
   "execution_count": null,
   "metadata": {},
   "outputs": [],
   "source": []
  }
 ],
 "metadata": {
  "kernelspec": {
   "display_name": "Python 3",
   "language": "python",
   "name": "python3"
  },
  "language_info": {
   "codemirror_mode": {
    "name": "ipython",
    "version": 3
   },
   "file_extension": ".py",
   "mimetype": "text/x-python",
   "name": "python",
   "nbconvert_exporter": "python",
   "pygments_lexer": "ipython3",
   "version": "3.6.15"
  },
  "vscode": {
   "interpreter": {
    "hash": "9e29db34a604ce7fea48d07150fd2d2e39997584ecc069f12d739b458c76b673"
   }
  }
 },
 "nbformat": 4,
 "nbformat_minor": 2
}
