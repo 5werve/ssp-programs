{
 "cells": [
  {
   "cell_type": "code",
   "execution_count": 1,
   "id": "d5f2bb5c",
   "metadata": {},
   "outputs": [
    {
     "ename": "IndexError",
     "evalue": "index 3 is out of bounds for axis 0 with size 3",
     "output_type": "error",
     "traceback": [
      "\u001b[0;31m---------------------------------------------------------------------------\u001b[0m",
      "\u001b[0;31mIndexError\u001b[0m                                Traceback (most recent call last)",
      "\u001b[0;32m<ipython-input-1-458ffa6cc425>\u001b[0m in \u001b[0;36m<module>\u001b[0;34m\u001b[0m\n\u001b[1;32m     37\u001b[0m     \u001b[0;32mreturn\u001b[0m \u001b[0mm\u001b[0m\u001b[0;34m,\u001b[0m \u001b[0mb\u001b[0m\u001b[0;34m\u001b[0m\u001b[0;34m\u001b[0m\u001b[0m\n\u001b[1;32m     38\u001b[0m \u001b[0;34m\u001b[0m\u001b[0m\n\u001b[0;32m---> 39\u001b[0;31m \u001b[0mm\u001b[0m\u001b[0;34m,\u001b[0m \u001b[0mb\u001b[0m \u001b[0;34m=\u001b[0m \u001b[0mLeastSqauresFitting\u001b[0m\u001b[0;34m(\u001b[0m\u001b[0;34m)\u001b[0m\u001b[0;34m\u001b[0m\u001b[0;34m\u001b[0m\u001b[0m\n\u001b[0m\u001b[1;32m     40\u001b[0m \u001b[0mprint\u001b[0m\u001b[0;34m(\u001b[0m\u001b[0;34m'm:'\u001b[0m\u001b[0;34m,\u001b[0m \u001b[0mm\u001b[0m\u001b[0;34m,\u001b[0m \u001b[0;34m'b:'\u001b[0m\u001b[0;34m,\u001b[0m \u001b[0mb\u001b[0m\u001b[0;34m)\u001b[0m\u001b[0;34m\u001b[0m\u001b[0;34m\u001b[0m\u001b[0m\n",
      "\u001b[0;32m<ipython-input-1-458ffa6cc425>\u001b[0m in \u001b[0;36mLeastSqauresFitting\u001b[0;34m()\u001b[0m\n\u001b[1;32m     21\u001b[0m     \u001b[0msumX2\u001b[0m \u001b[0;34m=\u001b[0m \u001b[0msumX\u001b[0m \u001b[0;34m=\u001b[0m \u001b[0msumXY\u001b[0m \u001b[0;34m=\u001b[0m \u001b[0msumY\u001b[0m \u001b[0;34m=\u001b[0m \u001b[0;36m0\u001b[0m\u001b[0;34m\u001b[0m\u001b[0;34m\u001b[0m\u001b[0m\n\u001b[1;32m     22\u001b[0m     \u001b[0;32mfor\u001b[0m \u001b[0mi\u001b[0m \u001b[0;32min\u001b[0m \u001b[0mrange\u001b[0m\u001b[0;34m(\u001b[0m\u001b[0;36m0\u001b[0m\u001b[0;34m,\u001b[0m \u001b[0mN\u001b[0m\u001b[0;34m)\u001b[0m\u001b[0;34m:\u001b[0m\u001b[0;34m\u001b[0m\u001b[0;34m\u001b[0m\u001b[0m\n\u001b[0;32m---> 23\u001b[0;31m         \u001b[0msumX2\u001b[0m \u001b[0;34m+=\u001b[0m \u001b[0mx\u001b[0m\u001b[0;34m[\u001b[0m\u001b[0mi\u001b[0m\u001b[0;34m]\u001b[0m \u001b[0;34m**\u001b[0m \u001b[0;36m2\u001b[0m\u001b[0;34m\u001b[0m\u001b[0;34m\u001b[0m\u001b[0m\n\u001b[0m\u001b[1;32m     24\u001b[0m         \u001b[0msumX\u001b[0m \u001b[0;34m+=\u001b[0m \u001b[0mx\u001b[0m\u001b[0;34m[\u001b[0m\u001b[0mi\u001b[0m\u001b[0;34m]\u001b[0m\u001b[0;34m\u001b[0m\u001b[0;34m\u001b[0m\u001b[0m\n\u001b[1;32m     25\u001b[0m         \u001b[0msumXY\u001b[0m \u001b[0;34m+=\u001b[0m \u001b[0mx\u001b[0m\u001b[0;34m[\u001b[0m\u001b[0mi\u001b[0m\u001b[0;34m]\u001b[0m \u001b[0;34m*\u001b[0m \u001b[0my\u001b[0m\u001b[0;34m[\u001b[0m\u001b[0mi\u001b[0m\u001b[0;34m]\u001b[0m\u001b[0;34m\u001b[0m\u001b[0;34m\u001b[0m\u001b[0m\n",
      "\u001b[0;31mIndexError\u001b[0m: index 3 is out of bounds for axis 0 with size 3"
     ]
    }
   ],
   "source": [
    "import numpy as np  \n",
    "import matplotlib.pyplot as plt\n",
    "\n",
    "def Det2X2(m):\n",
    "    return (m[0][0] * m[1][1]) - (m[0][1] * m[1][0])\n",
    "\n",
    "def LeastSqauresFitting():\n",
    "    np.random.seed(19684801)\n",
    "    #N = 10\n",
    "    \n",
    "    # Line that we want the random x, y values to deviate from\n",
    "    #testX = np.arange(0, N, 1)\n",
    "    #testY = testX * 2 + 3\n",
    "    \n",
    "    #x = testX + np.trunc(np.random.rand(N) * 5 - 2)\n",
    "    #y = testY + np.trunc(np.random.rand(N) * 5 - 2)\n",
    "    \n",
    "    x = np.array([5.816317455, 4.453814024, 4.984673176])\n",
    "    y = np.array([12.858, 16.287, 14.998])\n",
    "    \n",
    "    sumX2 = sumX = sumXY = sumY = 0\n",
    "    for i in range(0, N):\n",
    "        sumX2 += x[i] ** 2\n",
    "        sumX += x[i]\n",
    "        sumXY += x[i] * y[i]\n",
    "        sumY += y[i]\n",
    "        \n",
    "    m = Det2X2(np.array([[sumXY, sumX], [sumY, N]])) / Det2X2(np.array([[sumX2, sumX], [sumX, N]]))\n",
    "    b = Det2X2(np.array([[sumX2, sumXY], [sumX, sumY]])) / Det2X2(np.array([[sumX2, sumX], [sumX, N]]))\n",
    "    \n",
    "    lineX = np.arange(0, N, 1)\n",
    "    lineY = lineX * m + b\n",
    "    \n",
    "    plt.plot(x, y, 'ro')\n",
    "    plt.plot(lineX, lineY, 'b-')\n",
    "    \n",
    "    return m, b\n",
    "\n",
    "m, b = LeastSqauresFitting()\n",
    "print('m:', m, 'b:', b)"
   ]
  },
  {
   "cell_type": "code",
   "execution_count": null,
   "id": "6d86e31a",
   "metadata": {},
   "outputs": [],
   "source": [
    "    "
   ]
  },
  {
   "cell_type": "code",
   "execution_count": null,
   "id": "852aa784",
   "metadata": {},
   "outputs": [],
   "source": []
  }
 ],
 "metadata": {
  "kernelspec": {
   "display_name": "Python 3",
   "language": "python",
   "name": "python3"
  },
  "language_info": {
   "codemirror_mode": {
    "name": "ipython",
    "version": 3
   },
   "file_extension": ".py",
   "mimetype": "text/x-python",
   "name": "python",
   "nbconvert_exporter": "python",
   "pygments_lexer": "ipython3",
   "version": "3.6.15"
  }
 },
 "nbformat": 4,
 "nbformat_minor": 5
}
